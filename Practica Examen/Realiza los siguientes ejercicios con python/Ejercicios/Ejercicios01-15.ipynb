{
 "cells": [
  {
   "cell_type": "markdown",
   "metadata": {},
   "source": [
    "Ejercicio01\n"
   ]
  },
  {
   "cell_type": "code",
   "execution_count": null,
   "metadata": {},
   "outputs": [],
   "source": [
    "# Ejercicio 1: Implementa un programa Python que PREGUNTE al usuario por dos números enteros (x, y) \n",
    "# y muestre por pantalla la suma, resta, multiplicación, división y resto de ambos, con el siguiente formato:\n",
    "#     x + y = …\n",
    "#     x – y = …\n",
    "#     x * y = …\n",
    "#     x / y = …\n",
    "#     x % y = …\n",
    "\n",
    "\"\"\" Pido los números al usuario \"\"\"\n",
    "print(\"Introduce el primer número: \");\n",
    "x = int(input());\n",
    "print(\"Introduce el segundo número: \");\n",
    "y = int(input());\n",
    "\n",
    "\"\"\" Muestro los resultados de las operaciones\"\"\"\n",
    "print(x, \"+\", y, \"=\", x+y); \"\"\" Suma \"\"\"\n",
    "print(x, \"-\", y, \"=\", x-y); \"\"\" Resta \"\"\"\n",
    "print(x, \"*\", y, \"=\", x*y); \"\"\" Multiplicación \"\"\"\n",
    "print(x, \"/\", y, \"=\", x/y); \"\"\" División \"\"\"\n",
    "print(x, \"%\", y, \"=\", x%y); \"\"\" Resto \"\"\""
   ]
  },
  {
   "cell_type": "markdown",
   "metadata": {},
   "source": [
    "Ejercicio02"
   ]
  },
  {
   "cell_type": "code",
   "execution_count": null,
   "metadata": {},
   "outputs": [],
   "source": [
    "# Ejercicio 2:  Escribe un programa Python que pregunte al usuario por 10 números enteros \n",
    "# y muestre por pantalla el número total de veces que el usuario ha introducido el 0, \n",
    "# el número total de enteros mayores que 0 introducidos\n",
    "# y el número total de enteros menores que 0 introducidos.\n",
    "\n",
    "\"\"\"Creo las listas para guardar los números\"\"\"\"\"\n",
    "numeros = []\n",
    "numeros_menores_0 = []\n",
    "numeros_mayores_0 = []\n",
    "\n",
    "\"\"\"Pido los números y los guardo en la lista\"\"\"\"\"\n",
    "for i in range(10):\n",
    "    numeros.append(int(input(\"Escribe un número entero...\")))\n",
    "print(numeros)\n",
    "\n",
    "\"\"\"Voy contando los números y los guardo en la lista correspondiente para luego contarlos\"\"\"\n",
    "for num in numeros:\n",
    "    if num < 0:\n",
    "        numeros_menores_0.append(num)\n",
    "        \n",
    "for num in numeros:\n",
    "    if num > 0:\n",
    "        numeros_mayores_0.append(num)\n",
    "        \n",
    "\n",
    "\n",
    "print('La cantidad de veces que has introducido el número 0 son: ', numeros.count(0))\n",
    "print('La cantidad de veces que has introducido un número menor a 0 son: ', len(numeros_menores_0))\n",
    "print('La cantidad de veces que has introducido un número mayor a 0 son: ', len(numeros_mayores_0))\n"
   ]
  },
  {
   "cell_type": "markdown",
   "metadata": {},
   "source": [
    "Ejercicio03"
   ]
  },
  {
   "cell_type": "code",
   "execution_count": null,
   "metadata": {},
   "outputs": [],
   "source": [
    "# Ejercicio 3:  ¡IMPLEMENTA TU PRIMER JUEGO! Realiza un programa Python que adivine el número. \n",
    "# El programa generará un número aleatorio entre 0 y 20 \n",
    "# y luego irá pidiendo números al usuario indicando “mayor” o “menor” según sea mayor o menor con respecto al número generado aleatoriamente. \n",
    "# El proceso termina cuando el usuario acierta, y deberá mostrar un mensaje de felicitaciones junto al número de intentos que ha necesitado el usuario.\n",
    "\n",
    "\"\"\"Creo un número aleatorio entre 0 y 20\"\"\"\n",
    "from random import randint\n",
    "aleatorio = randint(0,20)\n",
    "\n",
    "acierto = False\n",
    "num_intentos = 0\n",
    "\n",
    "while not acierto:\n",
    "    respuesta = int(input(\"¿Dime un número del 1 al 20, si lo aciertas has ganado?\"))\n",
    "    num_intentos += 1\n",
    "    \n",
    "    if int(respuesta) == aleatorio: # Si el usuario acierta, se muestra un mensaje de felicitaciones junto al número de intentos que ha necesitado el usuario.\n",
    "        print(\"Enhorabuena, has adivinado el número en\", num_intentos, \"intentos, el número aleatorio era:\", aleatorio)\n",
    "        acierto = True\n",
    "        \n",
    "    else: # Si el usuario no acierta, se muestra un mensaje de si el número es mayor o menor que el aleatorio.\n",
    "        if respuesta < aleatorio:\n",
    "            print(respuesta, \"es menor al número aleatorio, llevas\",num_intentos,\"intento(s)\")\n",
    "        else:\n",
    "            print(respuesta, \"es mayor al número aleatorio, llevas\",num_intentos,\"intento(s)\")\n",
    "        \n"
   ]
  },
  {
   "cell_type": "markdown",
   "metadata": {},
   "source": [
    "Ejercicio04"
   ]
  },
  {
   "cell_type": "code",
   "execution_count": null,
   "metadata": {},
   "outputs": [],
   "source": [
    "# Ejercicio 4:  Implementa un programa Python que solicite al usuario una cadena de caracteres (String) \n",
    "# y muestre por pantalla la longitud de esta.\n",
    "\n",
    "cadena = input(\"Introduce una cadena de caracteres: \")\n",
    "print(\"La longitud de la cadena es: \", len(cadena))"
   ]
  },
  {
   "cell_type": "markdown",
   "metadata": {},
   "source": [
    "Ejercicio05"
   ]
  },
  {
   "cell_type": "code",
   "execution_count": null,
   "metadata": {},
   "outputs": [],
   "source": [
    "# Ejercicio 5:  Implementa un programa Python que solicite al usuario una cadena de caracteres (String) \n",
    "# y muestre por pantalla el número de veces que aparece la sub-cadena “aaa” dentro de dicho String.\n",
    "\n",
    "cadena = input(\"Introduce una cadena de caracteres: \")\n",
    "subcadena = \"aaa\"\n",
    "\n",
    "print(\"La subcadena\", subcadena, \"aparece\", cadena.count(subcadena), \"veces en la cadena\", cadena)"
   ]
  },
  {
   "cell_type": "markdown",
   "metadata": {},
   "source": [
    "Ejercicio06"
   ]
  },
  {
   "cell_type": "code",
   "execution_count": null,
   "metadata": {},
   "outputs": [],
   "source": [
    "# Ejercicio 6:  Implementa un programa Python que solicite al usuario una cadena de caracteres (String) \n",
    "# y muestre por pantalla dicha cadena, pero con el primer y último carácter cambiados de posición.\n",
    "\n",
    "cadena = input(\"Introduce una cadena de caracteres: \")\n",
    "print(\"La cadena introducida es:\", cadena)\n",
    "\n",
    "\n",
    "\"\"\" Obtengo el primer carácter de la cadena con cadena[0] y el final con cadena[-1]\n",
    "Y el resto de la cadena con cadena [1:-1] que es lo mismo que cadena[1:len(cadena)-1] \"\"\"\n",
    "\n",
    "print(\"La cadena con el primer y último carácter cambiados de posición es:\", cadena[-1] + cadena[1:-1] + cadena[0])"
   ]
  },
  {
   "cell_type": "markdown",
   "metadata": {},
   "source": [
    "Ejercicio07"
   ]
  },
  {
   "cell_type": "code",
   "execution_count": null,
   "metadata": {},
   "outputs": [],
   "source": [
    "# Ejercicio 7:  Implementa un programa Python que solicite al usuario una cadena de caracteres \n",
    "# y devuelva dicha cadena, pero al revés.\n",
    "\n",
    "cadena = input(\"Introduce una cadena de caracteres: \")\n",
    "print(\"La cadena introducida es:\", cadena)\n",
    "\n",
    "# La función reversed() devuelve un iterador que recorre la secuencia en orden inverso.\n",
    "# Uso la función join() para concatenar las letras de la cadena al revés.\n",
    "\n",
    "print(\"La cadena al revés es:\", ''.join(reversed(cadena)));"
   ]
  },
  {
   "cell_type": "markdown",
   "metadata": {},
   "source": [
    "Ejercicio08"
   ]
  },
  {
   "cell_type": "code",
   "execution_count": null,
   "metadata": {},
   "outputs": [],
   "source": [
    "# Ejercicio 8:  Implementa un programa Python con un método llamado sum(int [] tabla) que muestre por pantalla \n",
    "# el resultado de sumar todos los elementos de la tabla pasada como parámetro.\n",
    "\n",
    "\n",
    "# Declaro la función sum() que recibe como parámetro una lista de enteros\n",
    "def sum(tabla):\n",
    "    # Declaro la variable donde sumo todos los elementos de la lista\n",
    "    suma = 0\n",
    "    # Recorro la lista y voy sumando los elementos\n",
    "    for i in tabla:\n",
    "        suma += i\n",
    "    # Devuelvo el resultado de la suma\n",
    "    return suma\n",
    "\n",
    "# Pruebo la función sum() con una lista de números\n",
    "numeros = [1, 2, 3, 4, 5]\n",
    "resultado = sum(numeros)\n",
    "print(resultado)\n"
   ]
  },
  {
   "cell_type": "markdown",
   "metadata": {},
   "source": [
    "Ejercicio09"
   ]
  },
  {
   "cell_type": "code",
   "execution_count": null,
   "metadata": {},
   "outputs": [],
   "source": [
    "# Ejercicio 9:  Implementa un programa Python con un método llamado indexContains(String[] tabla, String cadena) \n",
    "# que devuelva el índice de la tabla cuyo valor es igual al valor de “cadena”. \n",
    "# En caso de no haber ningún valor igual, devuelve -1\n",
    "\n",
    "def indexContains(tabla, cadena):\n",
    "    for i in range(len(tabla)):\n",
    "        if tabla[i] == cadena:\n",
    "            return i\n",
    "    return -1\n",
    "\n",
    "    # Pruebo la función indexContains() con una lista de strings\n",
    "    tabla = [\"hola\", \"adios\", \"buenos dias\"]\n",
    "    cadena = \"adios\"\n",
    "    resultado = indexContains(tabla, cadena)\n",
    "    print(resultado)\n"
   ]
  },
  {
   "cell_type": "markdown",
   "metadata": {},
   "source": [
    "Ejercicio10"
   ]
  },
  {
   "cell_type": "code",
   "execution_count": null,
   "metadata": {},
   "outputs": [],
   "source": [
    "# Ejercicio 10:  Implementa un método Python llamado mayorYmenor, \n",
    "# el cual recibe como parámetro una tabla de Strings \n",
    "# y muestra por pantalla el String con mayor longitud y el String con menor longitud.\n",
    "\n",
    "def mayorYmenor(tabla):\n",
    "    mayor = \"\"\n",
    "    menor = tabla[0]\n",
    "    for string in tabla:\n",
    "        if len(string) > len(mayor):\n",
    "            mayor = string\n",
    "        if len(string) < len(menor):\n",
    "            menor = string\n",
    "    print(\"El string con mayor longitud es:\", mayor)\n",
    "    print(\"El string con menor longitud es:\", menor)\n",
    "\n",
    "# Pruebo la función mayorYmenor() con una lista de strings\n",
    "strings = [\"hola\", \"adios\", \"buenos dias\"]\n",
    "mayorYmenor(strings)\n"
   ]
  },
  {
   "cell_type": "markdown",
   "metadata": {},
   "source": [
    "Ejercicio11"
   ]
  },
  {
   "cell_type": "code",
   "execution_count": null,
   "metadata": {},
   "outputs": [],
   "source": [
    "# Ejercicio 11: Tenemos la siguiente tabla multidimensional,\n",
    "# la cual almacena por cada una de sus filas el salario trimestral de cada uno de los empleados de la empresa.\n",
    "\n",
    "# int salarios[][] = { {700, 900, 1300} , {1000, 950, 1080}, {1300, 930, 1200} }\n",
    "# A su vez, disponemos también de una tabla empleados, con los nombres de los trabajadores:\n",
    "# String empleados[] = {Javier María, Antonio Muñoz, Isabel Allende}\n",
    "# Implementa un programa Python que muestre por pantalla lo siguiente:\n",
    "# Javier Marías -> 700 + 900 + 1300 = 2900€\n",
    "# Antonio Muñoz -> 1000 + 950 + 1080 = 3030€\n",
    "# Isabel Allende -> 1300 + 930 + 1200 = 3430€\n",
    "\n",
    "# Declaro la lista de listas salarios\n",
    "salarios = [[700, 900, 1300], [1000, 950, 1080], [1300, 930, 1200]]\n",
    "empleados = ['Javier María', 'Antonio Muñoz', 'Isabel Allende']\n",
    "\n",
    "# Recorro la lista de listas salarios y voy sumando los elementos de cada lista\n",
    "for i in range(len(empleados)):\n",
    "    salario_total = sum(salarios[i])\n",
    "    # Imprimo el resultado\n",
    "    print(f\"{empleados[i]} -> {salarios[i][0]} + {salarios[i][1]} + {salarios[i][2]} = {salario_total}€\")\n",
    "    "
   ]
  },
  {
   "cell_type": "markdown",
   "metadata": {},
   "source": [
    "Ejercicio12"
   ]
  },
  {
   "cell_type": "code",
   "execution_count": null,
   "metadata": {},
   "outputs": [],
   "source": [
    "# Ejercicio 12: Crea una clase llamada Cuenta que tendrá los siguientes atributos: titular y cantidad (puede tener decimales). \n",
    "# El titular será obligatorio y la cantidad es opcional. \n",
    "# Crea sus métodos get, set y toString. \n",
    "#     Tendrá dos métodos especiales:\n",
    "#                 - ingresar(double cantidad): se ingresa una cantidad a la cuenta si la cantidad introducida es negativa, no se hará nada.\n",
    "#                 - retirar(double cantidad): se retira una cantidad a la cuenta, si restando la cantidad actual a la que nos pasan es negativa, \n",
    "#                                             la cantidad de la cuenta pasa a ser 0.\n",
    "\n",
    "class Cuenta:\n",
    "    def __init__(self, titular, cantidad=0):\n",
    "        self.titular = titular  # Guardo el titular que se pasa como parámetro\n",
    "        self.cantidad = cantidad  # Guardo la cantidad que se pasa como parámetro\n",
    "\n",
    "    def ingresar(self, cantidad):\n",
    "        if cantidad > 0:\n",
    "            self.cantidad += cantidad  # Ingresa una cantidad a la cuenta si es positiva\n",
    "\n",
    "\n",
    "    def retirar(self, cantidad):\n",
    "        if cantidad > 0:\n",
    "            if self.cantidad - cantidad < 0:\n",
    "                self.cantidad = 0  # Si al restar la cantidad actual a la que nos pasan es negativa, la cantidad de la cuenta pasa a ser 0\n",
    "            else:\n",
    "                self.cantidad -= cantidad  # Si hay fondos en la cuenta se retira la cantidad deseada\n",
    "\n",
    "    def __str__(self):\n",
    "        return f\"Titular: {self.titular}, Cantidad: {self.cantidad}\" \n",
    "\n",
    "    \n",
    "# Getters y setters\n",
    "    def get_titular(self):\n",
    "        return self.titular\n",
    "\n",
    "    def set_titular(self, titular):\n",
    "        self.titular = titular\n",
    "\n",
    "    def get_cantidad(self):\n",
    "        return self.cantidad  \n",
    "\n",
    "    def set_cantidad(self, cantidad):\n",
    "        self.cantidad = cantidad \n",
    "\n",
    "\n",
    "# Ejemplo de uso\n",
    "cuenta1 = Cuenta(\"Juan Pérez\", 1000)\n",
    "print(cuenta1)  # Resultado-> Titular: Juan Pérez, Cantidad: 1000\n",
    "\n",
    "cuenta1.ingresar(500)\n",
    "print(cuenta1)  # Resultado-> Titular: Juan Pérez, Cantidad: 1500\n",
    "\n",
    "cuenta1.retirar(2000)\n",
    "print(cuenta1)  # Resultado-> Titular: Juan Pérez, Cantidad: 0"
   ]
  },
  {
   "cell_type": "markdown",
   "metadata": {},
   "source": [
    "Ejercicio13"
   ]
  },
  {
   "cell_type": "code",
   "execution_count": null,
   "metadata": {},
   "outputs": [],
   "source": [
    "# Ejercicio 13: \n",
    "#     Implementa la clase “Matriz” con los atributos int rows, int columns e int[rows][columns] matrix, que contenga los siguientes métodos: \n",
    "#         - getNumberRows(): devuelve el número de filas de la matriz.\n",
    "#         - getNumberColumns(): devuelve el número de columnas de la matriz.\n",
    "#         - setElement(int x, int j, int element): cambia el valor de la matriz en [x][j] por el valor de [element].\n",
    "#         - addMatrix(int[][] matrix): suma todos los elementos de la matriz actual a los elementos de [matrix], \n",
    "#                                     y el resultado se almacena en la matriz inicial. \n",
    "#                                     Si [matrix] no tiene el mismo número de filas y columnas que la matriz inicial, la operación no se puede realizar (notificalo).\n",
    "#         - multMatrix(int[][] matrix]: multiplica todos los elementos de la matriz actual a los elementos de [matrix], \n",
    "#                                     y el resultado se almacena en la matriz inicial. \n",
    "#                                     Si [matrix] no tiene el mismo número de filas y columnas que la matriz inicial, la operación no se puede realizar (notificalo).\n",
    "\n",
    "class Matriz:\n",
    "    def __init__(self, filas, columnas): \n",
    "        self.filas = filas \n",
    "        self.columnas = columnas \n",
    "        self.matriz = [[0 for j in range(columnas)] for i in range(filas)] \n",
    "    \n",
    "    def getNumeroFilas(self): \n",
    "        return self.filas \n",
    "    \n",
    "    def getNumeroColumnas(self): \n",
    "        return self.columnas \n",
    "    \n",
    "    def setElemento(self, x, j, elemento): \n",
    "        self.matriz[x][j] = elemento \n",
    "    \n",
    "    def sumarMatriz(self, matriz): \n",
    "        if len(matriz) != self.filas or len(matriz[0]) != self.columnas: \n",
    "            print(\"Error: la matriz argumento no tiene el mismo tamaño que la matriz actual.\") \n",
    "            return \n",
    "        for i in range(self.filas): \n",
    "            for j in range(self.columnas): \n",
    "                self.matriz[i][j] += matriz[i][j] \n",
    "    \n",
    "    def multiplicarMatriz(self, matriz): \n",
    "        if len(matriz) != self.columnas: \n",
    "            print(\"Error: el número de filas de la matriz argumento no coincide con el número de columnas de la matriz actual.\") \n",
    "            return \n",
    "        resultado = [[0 for j in range(len(matriz[0]))] for i in range(self.filas)] \n",
    "        for i in range(self.filas): \n",
    "            for j in range(len(matriz[0])): \n",
    "                for k in range(self.columnas): \n",
    "                    resultado[i][j] += self.matriz[i][k] * matriz[k][j] \n",
    "        self.matriz = resultado\n",
    "        \n",
    "        \n",
    "# Pruebo Todas las funciones de la clase, Te quiero mucho copilot <3\n",
    "\n",
    "# Crear una instancia de la clase Matriz\n",
    "mi_matriz = Matriz(3, 3)\n",
    "\n",
    "# Imprimir el número de filas y columnas de la matriz\n",
    "print(\"Número de filas:\", mi_matriz.getNumeroFilas())\n",
    "print(\"Número de columnas:\", mi_matriz.getNumeroColumnas())\n",
    "\n",
    "# Establecer elementos en la matriz\n",
    "mi_matriz.setElemento(0, 0, 1)\n",
    "mi_matriz.setElemento(0, 1, 2)\n",
    "mi_matriz.setElemento(0, 2, 3)\n",
    "mi_matriz.setElemento(1, 0, 4)\n",
    "mi_matriz.setElemento(1, 1, 5)\n",
    "mi_matriz.setElemento(1, 2, 6)\n",
    "mi_matriz.setElemento(2, 0, 7)\n",
    "mi_matriz.setElemento(2, 1, 8)\n",
    "mi_matriz.setElemento(2, 2, 9)\n",
    "\n",
    "# Imprimir la matriz\n",
    "print(\"Matriz original:\")\n",
    "for fila in mi_matriz.matriz:\n",
    "    print(fila)\n",
    "\n",
    "# Sumar otra matriz a la matriz actual\n",
    "otra_matriz = [[1, 1, 1], [1, 1, 1], [1, 1, 1]]\n",
    "mi_matriz.sumarMatriz(otra_matriz)\n",
    "\n",
    "# Imprimir la matriz después de la suma\n",
    "print(\"Matriz después de la suma:\")\n",
    "for fila in mi_matriz.matriz:\n",
    "    print(fila)\n",
    "\n",
    "# Multiplicar la matriz actual por otra matriz\n",
    "otra_matriz = [[2, 2], [2, 2], [2, 2]]\n",
    "mi_matriz.multiplicarMatriz(otra_matriz)\n",
    "\n",
    "# Imprimir la matriz después de la multiplicación\n",
    "print(\"Matriz después de la multiplicación:\")\n",
    "for fila in mi_matriz.matriz:\n",
    "    print(fila)\n",
    "\n"
   ]
  },
  {
   "cell_type": "markdown",
   "metadata": {},
   "source": [
    "Ejercicio14"
   ]
  },
  {
   "cell_type": "code",
   "execution_count": null,
   "metadata": {},
   "outputs": [],
   "source": [
    "# Ejercicio 14: Realiza un programa en Python en el que muestres un menú que te permita 3 opciones:\n",
    "#                 - 1. Volcado (escritura) de una lista con todos los números pares comprendidos entre 0 y 100.\n",
    "#                 - 2. Mostrar (lectura) por pantalla el contenido del fichero de texto creado.\n",
    "#                 - 3. Salir del Programa.\n",
    "\n",
    "def write_numbers():\n",
    "    with open(\"pares.txt\", \"w\") as file:\n",
    "        for i in range(0, 101, 2):\n",
    "            file.write(str(i) + \"\\n\")\n",
    "    print(\"Archivo creado con éxito.\")\n",
    "\n",
    "def read_file():\n",
    "    try:\n",
    "        with open(\"pares.txt\", \"r\") as file:\n",
    "            print(file.read())\n",
    "    except FileNotFoundError:\n",
    "        print(\"El archivo no existe.\")\n",
    "\n",
    "def main():\n",
    "    while True:\n",
    "        print(\"Menú:\")\n",
    "        print(\"1. Volcado (escritura) de una lista con todos los números pares comprendidos entre 0 y 100.\")\n",
    "        print(\"2. Mostrar (lectura) por pantalla el contenido del fichero de texto creado.\")\n",
    "        print(\"3. Salir del Programa.\")\n",
    "        option = input(\"Seleccione una opción: \")\n",
    "        if option == \"1\":\n",
    "            write_numbers()\n",
    "        elif option == \"2\":\n",
    "            read_file()\n",
    "        elif option == \"3\":\n",
    "            break\n",
    "        else:\n",
    "            print(\"Opción inválida. Intente de nuevo.\")\n",
    "\n",
    "if __name__ == \"__main__\":\n",
    "    main()\n"
   ]
  },
  {
   "cell_type": "markdown",
   "metadata": {},
   "source": [
    "Ejercicio15"
   ]
  },
  {
   "cell_type": "code",
   "execution_count": null,
   "metadata": {},
   "outputs": [],
   "source": [
    "# Ejercicio 15: \n",
    "#     Crea un fichero de texto con el nombre y contenido que tú desees. Por ejemplo, Ejercicio15.txt. \n",
    "\n",
    "#     Realiza un programa en Python que lea el fichero <<Ejercicio15.txt>> y muestre su contenido por pantalla sin espacios.\n",
    "\n",
    "#     Por ejemplo, si el fichero contiene el siguiente texto “Hola que haces”, deberá mostrar “Holaquehaces”.\n",
    "\n",
    "# Creamos el archivo de texto con el contenido deseado\n",
    "with open(\"Ejercicio15.txt\", \"w\") as f:\n",
    "    f.write(\"Hola que haces\")\n",
    "\n",
    "# Leemos el archivo y eliminamos los espacios en blanco del contenido con el método replace()\n",
    "with open(\"Ejercicio15.txt\", \"r\") as f:\n",
    "    contenido = f.read().replace(\" \", \"\")\n",
    "\n",
    "# Mostramos el contenido sin espacios por pantalla\n",
    "print(contenido)\n"
   ]
  }
 ],
 "metadata": {
  "language_info": {
   "name": "python"
  }
 },
 "nbformat": 4,
 "nbformat_minor": 2
}
